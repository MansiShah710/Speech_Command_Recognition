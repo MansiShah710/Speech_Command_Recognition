{
 "cells": [
  {
   "cell_type": "markdown",
   "metadata": {},
   "source": [
    "##  <font color='red'> Model 3: Single word speech recognition using Attention Recurrent Neural Network and MFCC Feature Extraction </font>"
   ]
  },
  {
   "cell_type": "markdown",
   "metadata": {},
   "source": [
    "### Import Libraries"
   ]
  },
  {
   "cell_type": "code",
   "execution_count": 38,
   "metadata": {},
   "outputs": [
    {
     "name": "stdout",
     "output_type": "stream",
     "text": [
      "Populating the interactive namespace from numpy and matplotlib\n"
     ]
    },
    {
     "name": "stderr",
     "output_type": "stream",
     "text": [
      "//anaconda3/lib/python3.7/site-packages/IPython/core/magics/pylab.py:160: UserWarning: pylab import has clobbered these variables: ['random', 'cm']\n",
      "`%matplotlib` prevents importing * from pylab and numpy\n",
      "  \"\\n`%matplotlib` prevents importing * from pylab and numpy\"\n"
     ]
    }
   ],
   "source": [
    "import librosa\n",
    "import matplotlib\n",
    "import numpy as np\n",
    "import matplotlib.pyplot as plt\n",
    "%matplotlib inline  \n",
    "from scipy import signal \n",
    "from scipy.io import wavfile \n",
    "import os \n",
    "import IPython.display as ipd\n",
    "import math as mt \n",
    "import librosa \n",
    "from librosa.display import waveplot\n",
    "import pandas as pd\n",
    "from tensorflow.keras.models import Model, load_model\n",
    "from tensorflow.keras.layers import Dense, Permute, Dropout, Flatten, Conv2D, BatchNormalization, Input, Reshape, MaxPooling2D, GlobalAveragePooling2D\n",
    "from tensorflow.keras import layers as L\n",
    "from tensorflow.keras import backend as K\n",
    "from tensorflow.keras.utils import to_categorical\n",
    "from tensorflow.keras.callbacks import EarlyStopping\n",
    "\n",
    "%matplotlib inline \n",
    "%pylab inline\n",
    "pylab.rcParams['figure.figsize'] = (18, 6)"
   ]
  },
  {
   "cell_type": "markdown",
   "metadata": {},
   "source": [
    "### Import the data"
   ]
  },
  {
   "cell_type": "code",
   "execution_count": 39,
   "metadata": {},
   "outputs": [],
   "source": [
    "train_audio_path = \"audio_data/Audio_8hz\""
   ]
  },
  {
   "cell_type": "code",
   "execution_count": 40,
   "metadata": {},
   "outputs": [
    {
     "data": {
      "text/plain": [
       "['backward',\n",
       " 'happy',\n",
       " 'silence',\n",
       " 'no',\n",
       " 'nine',\n",
       " 'stop',\n",
       " 'zero',\n",
       " 'up',\n",
       " 'down',\n",
       " 'yes',\n",
       " 'on',\n",
       " 'forward',\n",
       " 'off']"
      ]
     },
     "execution_count": 40,
     "metadata": {},
     "output_type": "execute_result"
    }
   ],
   "source": [
    "labels=os.listdir(train_audio_path)\n",
    "labels"
   ]
  },
  {
   "cell_type": "code",
   "execution_count": 41,
   "metadata": {},
   "outputs": [],
   "source": [
    "labels_to_consider = [\n",
    " 'backward',\n",
    " 'down',\n",
    " 'forward',\n",
    " 'happy',\n",
    " 'no',\n",
    " 'on',\n",
    " 'off',\n",
    " 'silence',\n",
    " 'stop',\n",
    " 'up',\n",
    " 'yes']"
   ]
  },
  {
   "cell_type": "markdown",
   "metadata": {},
   "source": [
    "### Check the baseline using majority classification rule:\n",
    "#### The majority class in this model is \"unknown\" with the 19.2% of audio files. So, the baseline of this model is 19.2%"
   ]
  },
  {
   "cell_type": "code",
   "execution_count": 42,
   "metadata": {},
   "outputs": [
    {
     "name": "stdout",
     "output_type": "stream",
     "text": [
      "backward\t4.0%\n",
      "happy\t4.9%\n",
      "silence\t2.7%\n",
      "no\t9.5%\n",
      "stop\t9.3%\n",
      "up\t8.9%\n",
      "down\t9.4%\n",
      "yes\t9.7%\n",
      "on\t9.2%\n",
      "forward\t4.1%\n",
      "off\t9.0%\n",
      "unknown\t19.2%\n"
     ]
    }
   ],
   "source": [
    "count_unknown = 0\n",
    "train_audio_path = 'audio_data/Audio_8hz/'\n",
    "labels=os.listdir(train_audio_path)\n",
    "total_count = 0\n",
    "for label in labels:\n",
    "    total_count = total_count + len(os.listdir(train_audio_path+label))\n",
    "for label in labels:\n",
    "    if label == 'zero' or label == 'nine':\n",
    "        count = len(os.listdir(train_audio_path+label))\n",
    "        count_unknown = count_unknown + count\n",
    "    else:\n",
    "        count = len(os.listdir(train_audio_path+label))\n",
    "        print(label+'\\t'+str(round(count/total_count*100,1))+'%')\n",
    "print('unknown' +'\\t'+str(round(count_unknown/total_count*100,1))+'%')"
   ]
  },
  {
   "cell_type": "markdown",
   "metadata": {},
   "source": [
    "### Feature extraction of sample audio file:"
   ]
  },
  {
   "cell_type": "code",
   "execution_count": 43,
   "metadata": {},
   "outputs": [
    {
     "name": "stdout",
     "output_type": "stream",
     "text": [
      "(40, 16)\n"
     ]
    }
   ],
   "source": [
    "file_path = \"audio_data/Audio_8hz/down/0a2b400e_nohash_3.wav\"\n",
    "max_pad_len=16\n",
    "audio, sample_rate = librosa.load(file_path, res_type='kaiser_fast', sr = 8000)\n",
    "mfccs = librosa.feature.mfcc(y=audio, sr=sample_rate, n_mfcc=40)\n",
    "pad_width = max_pad_len - mfccs.shape[1]\n",
    "mfccs = np.pad(mfccs, pad_width=((0, 0), (0, pad_width)), mode='constant')\n",
    "print(mfccs.shape)"
   ]
  },
  {
   "cell_type": "markdown",
   "metadata": {},
   "source": [
    "### Define a function for feature extraction of all audio files"
   ]
  },
  {
   "cell_type": "code",
   "execution_count": 45,
   "metadata": {},
   "outputs": [],
   "source": [
    "\n",
    "max_pad_len = 16\n",
    "def extract_features(file_name):\n",
    "    try:\n",
    "        audio, sample_rate = librosa.load(train_audio_path + '/' + label + '/' + wav, res_type='kaiser_fast', sr = 8000)\n",
    "        mfccs = librosa.feature.mfcc(y=audio, sr=sample_rate, n_mfcc=40)\n",
    "        pad_width = max_pad_len - mfccs.shape[1]\n",
    "        mfccs = np.pad(mfccs, pad_width=((0, 0), (0, pad_width)), mode='constant')\n",
    "\n",
    "    except Exception as e:\n",
    "        print(\"Error encountered while parsing file: \", file_name)\n",
    "        return None \n",
    "\n",
    "    return mfccs\n"
   ]
  },
  {
   "cell_type": "markdown",
   "metadata": {},
   "source": [
    "### Save the extracted features in a pandas data frame"
   ]
  },
  {
   "cell_type": "code",
   "execution_count": 46,
   "metadata": {},
   "outputs": [],
   "source": [
    "features = []\n",
    "all_label = []\n",
    "\n",
    "for label in labels:\n",
    "    count = 0\n",
    "    waves = [f for f in os.listdir(train_audio_path + '/'+ label) if f.endswith('.wav')]\n",
    "    for wav in waves:\n",
    "        data = extract_features(train_audio_path + '/'+ label + '/' + wav)\n",
    "        if label in labels_to_consider:\n",
    "            features.append([data, label])\n",
    "            all_label.append(label)\n",
    "        else:\n",
    "            features.append([data, 'unknown'])\n",
    "            all_label.append('unknown')\n",
    "\n",
    "# Convert into a Panda dataframe \n",
    "featuresdf = pd.DataFrame(features, columns=['feature','class_label'])"
   ]
  },
  {
   "cell_type": "markdown",
   "metadata": {},
   "source": [
    "#### Convert the output labels to integer encoded:"
   ]
  },
  {
   "cell_type": "code",
   "execution_count": 47,
   "metadata": {},
   "outputs": [],
   "source": [
    "from sklearn.preprocessing import LabelEncoder\n",
    "le = LabelEncoder()\n",
    "y=le.fit_transform(all_label)\n",
    "classes= list(le.classes_)"
   ]
  },
  {
   "cell_type": "markdown",
   "metadata": {},
   "source": [
    "### Final list of classes"
   ]
  },
  {
   "cell_type": "code",
   "execution_count": 48,
   "metadata": {},
   "outputs": [
    {
     "data": {
      "text/plain": [
       "['backward',\n",
       " 'down',\n",
       " 'forward',\n",
       " 'happy',\n",
       " 'no',\n",
       " 'off',\n",
       " 'on',\n",
       " 'silence',\n",
       " 'stop',\n",
       " 'unknown',\n",
       " 'up',\n",
       " 'yes']"
      ]
     },
     "execution_count": 48,
     "metadata": {},
     "output_type": "execute_result"
    }
   ],
   "source": [
    "classes"
   ]
  },
  {
   "cell_type": "markdown",
   "metadata": {},
   "source": [
    "### Convert features and corresponding classification labels into numpy arrays"
   ]
  },
  {
   "cell_type": "code",
   "execution_count": 49,
   "metadata": {},
   "outputs": [],
   "source": [
    "from sklearn.preprocessing import LabelEncoder\n",
    "from keras.utils import to_categorical\n",
    "\n",
    "# Convert features and corresponding classification labels into numpy arrays\n",
    "X = np.array(featuresdf.feature.tolist())\n",
    "y = np.array(featuresdf.class_label.tolist())\n",
    "\n",
    "# Encode the classification labels\n",
    "le = LabelEncoder()\n",
    "yy = to_categorical(le.fit_transform(y))\n"
   ]
  },
  {
   "cell_type": "markdown",
   "metadata": {},
   "source": [
    "### Split the training and validation data"
   ]
  },
  {
   "cell_type": "code",
   "execution_count": 50,
   "metadata": {},
   "outputs": [],
   "source": [
    "# split the dataset \n",
    "from sklearn.model_selection import train_test_split \n",
    "\n",
    "x_train, x_test, y_train, y_test = train_test_split(X, yy, test_size=0.2, random_state = 77)\n"
   ]
  },
  {
   "cell_type": "code",
   "execution_count": 51,
   "metadata": {},
   "outputs": [
    {
     "data": {
      "text/plain": [
       "(33280, 40, 16)"
      ]
     },
     "execution_count": 51,
     "metadata": {},
     "output_type": "execute_result"
    }
   ],
   "source": [
    "x_train.shape"
   ]
  },
  {
   "cell_type": "markdown",
   "metadata": {},
   "source": [
    "### Create Model"
   ]
  },
  {
   "cell_type": "code",
   "execution_count": 16,
   "metadata": {},
   "outputs": [
    {
     "name": "stdout",
     "output_type": "stream",
     "text": [
      "Model: \"model\"\n",
      "__________________________________________________________________________________________________\n",
      "Layer (type)                    Output Shape         Param #     Connected to                     \n",
      "==================================================================================================\n",
      "input (InputLayer)              [(None, 40, 16, 1)]  0                                            \n",
      "__________________________________________________________________________________________________\n",
      "conv2d_4 (Conv2D)               (None, 40, 16, 30)   180         input[0][0]                      \n",
      "__________________________________________________________________________________________________\n",
      "batch_normalization_4 (BatchNor (None, 40, 16, 30)   120         conv2d_4[0][0]                   \n",
      "__________________________________________________________________________________________________\n",
      "dropout_4 (Dropout)             (None, 40, 16, 30)   0           batch_normalization_4[0][0]      \n",
      "__________________________________________________________________________________________________\n",
      "conv2d_5 (Conv2D)               (None, 40, 16, 1)    151         dropout_4[0][0]                  \n",
      "__________________________________________________________________________________________________\n",
      "batch_normalization_5 (BatchNor (None, 40, 16, 1)    4           conv2d_5[0][0]                   \n",
      "__________________________________________________________________________________________________\n",
      "dropout_5 (Dropout)             (None, 40, 16, 1)    0           batch_normalization_5[0][0]      \n",
      "__________________________________________________________________________________________________\n",
      "squeeze_last_dim (Lambda)       (None, 40, 16)       0           dropout_5[0][0]                  \n",
      "__________________________________________________________________________________________________\n",
      "bidirectional (Bidirectional)   (None, 40, 128)      41472       squeeze_last_dim[0][0]           \n",
      "__________________________________________________________________________________________________\n",
      "bidirectional_1 (Bidirectional) (None, 40, 128)      98816       bidirectional[0][0]              \n",
      "__________________________________________________________________________________________________\n",
      "lambda (Lambda)                 (None, 128)          0           bidirectional_1[0][0]            \n",
      "__________________________________________________________________________________________________\n",
      "dense (Dense)                   (None, 128)          16512       lambda[0][0]                     \n",
      "__________________________________________________________________________________________________\n",
      "dot (Dot)                       (None, 40)           0           dense[0][0]                      \n",
      "                                                                 bidirectional_1[0][0]            \n",
      "__________________________________________________________________________________________________\n",
      "attSoftmax (Softmax)            (None, 40)           0           dot[0][0]                        \n",
      "__________________________________________________________________________________________________\n",
      "dot_1 (Dot)                     (None, 128)          0           attSoftmax[0][0]                 \n",
      "                                                                 bidirectional_1[0][0]            \n",
      "__________________________________________________________________________________________________\n",
      "dense_1 (Dense)                 (None, 64)           8256        dot_1[0][0]                      \n",
      "__________________________________________________________________________________________________\n",
      "dense_2 (Dense)                 (None, 32)           2080        dense_1[0][0]                    \n",
      "__________________________________________________________________________________________________\n",
      "output (Dense)                  (None, 12)           396         dense_2[0][0]                    \n",
      "==================================================================================================\n",
      "Total params: 167,987\n",
      "Trainable params: 167,925\n",
      "Non-trainable params: 62\n",
      "__________________________________________________________________________________________________\n"
     ]
    }
   ],
   "source": [
    "\n",
    "    \n",
    "num_rows = 40\n",
    "num_columns = 16\n",
    "num_channels = 1\n",
    "\n",
    "x_train = x_train.reshape(x_train.shape[0], num_rows, num_columns, num_channels)\n",
    "x_test = x_test.reshape(x_test.shape[0], num_rows, num_columns, num_channels)\n",
    "\n",
    "num_labels = yy.shape[1]\n",
    "inputs = L.Input((40,16,1), name='input')\n",
    "\n",
    "x = L.Conv2D(30, (5, 1), activation='relu', padding='same')(inputs)\n",
    "x = L.BatchNormalization()(x)\n",
    "x = Dropout(0.25)(x)\n",
    "\n",
    "x = L.Conv2D(1, (5, 1), activation='relu', padding='same')(x)\n",
    "x = L.BatchNormalization()(x)\n",
    "x = Dropout(0.25)(x)\n",
    "\n",
    "x = L.Lambda(lambda q: K.squeeze(q, -1), name='squeeze_last_dim')(x)\n",
    "x = L.Bidirectional(L.LSTM(64, return_sequences=True))(x)  \n",
    "x = L.Bidirectional(L.LSTM(64, return_sequences=True))(x) \n",
    "\n",
    "xFirst = L.Lambda(lambda q: q[:, -1])(x) \n",
    "query = L.Dense(128)(xFirst)\n",
    "\n",
    "# dot product attention\n",
    "attScores = L.Dot(axes=[1, 2])([query, x])\n",
    "attScores = L.Softmax(name='attSoftmax')(attScores)  \n",
    "\n",
    "attVector = L.Dot(axes=[1, 1])([attScores, x])\n",
    "\n",
    "x = L.Dense(64, activation='relu')(attVector)\n",
    "x = L.Dense(32)(x)\n",
    "\n",
    "output = L.Dense(num_labels, activation='softmax')(x)\n",
    "\n",
    "model = Model(inputs=[inputs], outputs=[output])\n",
    "model.summary()"
   ]
  },
  {
   "cell_type": "markdown",
   "metadata": {},
   "source": [
    "### Compile Model"
   ]
  },
  {
   "cell_type": "code",
   "execution_count": 17,
   "metadata": {},
   "outputs": [],
   "source": [
    "model.compile(optimizer='adam', loss=['categorical_crossentropy'], metrics=['accuracy'])"
   ]
  },
  {
   "cell_type": "markdown",
   "metadata": {},
   "source": [
    "### Set early stopping on minimum validation loss"
   ]
  },
  {
   "cell_type": "code",
   "execution_count": 18,
   "metadata": {},
   "outputs": [],
   "source": [
    "\n",
    "import math\n",
    "from tensorflow.keras.callbacks import EarlyStopping, ModelCheckpoint, LearningRateScheduler\n",
    "def step_decay(epoch):\n",
    "    initial_lrate = 0.001\n",
    "    drop = 0.4\n",
    "    epochs_drop = 15.0\n",
    "    lrate = initial_lrate * math.pow(drop,  \n",
    "            math.floor((1+epoch)/epochs_drop))\n",
    "    \n",
    "    if (lrate < 4e-5):\n",
    "        lrate = 4e-5\n",
    "      \n",
    "    print('Changing learning rate to {}'.format(lrate))\n",
    "    return lrate\n",
    "lrate = LearningRateScheduler(step_decay)"
   ]
  },
  {
   "cell_type": "code",
   "execution_count": 21,
   "metadata": {},
   "outputs": [
    {
     "name": "stdout",
     "output_type": "stream",
     "text": [
      "Train on 33280 samples, validate on 8321 samples\n",
      "Changing learning rate to 0.001\n",
      "Epoch 1/30\n",
      "33280/33280 [==============================] - 246s 7ms/sample - loss: 1.1578 - accuracy: 0.6021 - val_loss: 0.8956 - val_accuracy: 0.6991\n",
      "Changing learning rate to 0.001\n",
      "Epoch 2/30\n",
      "33280/33280 [==============================] - 252s 8ms/sample - loss: 0.9335 - accuracy: 0.6793 - val_loss: 0.7436 - val_accuracy: 0.7480\n",
      "Changing learning rate to 0.001\n",
      "Epoch 3/30\n",
      "33280/33280 [==============================] - 260s 8ms/sample - loss: 0.8218 - accuracy: 0.7197 - val_loss: 0.6701 - val_accuracy: 0.7735\n",
      "Changing learning rate to 0.001\n",
      "Epoch 4/30\n",
      "33280/33280 [==============================] - 247s 7ms/sample - loss: 0.7462 - accuracy: 0.7452 - val_loss: 0.6160 - val_accuracy: 0.7957\n",
      "Changing learning rate to 0.001\n",
      "Epoch 5/30\n",
      "33280/33280 [==============================] - 250s 8ms/sample - loss: 0.6916 - accuracy: 0.7642 - val_loss: 0.6010 - val_accuracy: 0.7941\n",
      "Changing learning rate to 0.001\n",
      "Epoch 6/30\n",
      "33280/33280 [==============================] - 254s 8ms/sample - loss: 0.6514 - accuracy: 0.7760 - val_loss: 0.5609 - val_accuracy: 0.8106\n",
      "Changing learning rate to 0.001\n",
      "Epoch 7/30\n",
      "33280/33280 [==============================] - 265s 8ms/sample - loss: 0.6138 - accuracy: 0.7877 - val_loss: 0.5270 - val_accuracy: 0.8236\n",
      "Changing learning rate to 0.001\n",
      "Epoch 8/30\n",
      "33280/33280 [==============================] - 249s 7ms/sample - loss: 0.5790 - accuracy: 0.8022 - val_loss: 0.5287 - val_accuracy: 0.8217\n",
      "Changing learning rate to 0.001\n",
      "Epoch 9/30\n",
      "33280/33280 [==============================] - 259s 8ms/sample - loss: 0.5617 - accuracy: 0.8078 - val_loss: 0.5121 - val_accuracy: 0.8312\n",
      "Changing learning rate to 0.001\n",
      "Epoch 10/30\n",
      "33280/33280 [==============================] - 254s 8ms/sample - loss: 0.5384 - accuracy: 0.8135 - val_loss: 0.4869 - val_accuracy: 0.8343\n",
      "Changing learning rate to 0.001\n",
      "Epoch 11/30\n",
      "33280/33280 [==============================] - 251s 8ms/sample - loss: 0.5180 - accuracy: 0.8196 - val_loss: 0.5037 - val_accuracy: 0.8293\n",
      "Changing learning rate to 0.001\n",
      "Epoch 12/30\n",
      "33280/33280 [==============================] - 249s 7ms/sample - loss: 0.4937 - accuracy: 0.8306 - val_loss: 0.4783 - val_accuracy: 0.8390\n",
      "Changing learning rate to 0.001\n",
      "Epoch 13/30\n",
      "33280/33280 [==============================] - 248s 7ms/sample - loss: 0.4755 - accuracy: 0.8348 - val_loss: 0.4517 - val_accuracy: 0.8463\n",
      "Changing learning rate to 0.001\n",
      "Epoch 14/30\n",
      "33280/33280 [==============================] - 251s 8ms/sample - loss: 0.4626 - accuracy: 0.8395 - val_loss: 0.4760 - val_accuracy: 0.8416\n",
      "Changing learning rate to 0.0004\n",
      "Epoch 15/30\n",
      "33280/33280 [==============================] - 246s 7ms/sample - loss: 0.3969 - accuracy: 0.8609 - val_loss: 0.4389 - val_accuracy: 0.8543\n",
      "Changing learning rate to 0.0004\n",
      "Epoch 16/30\n",
      "33280/33280 [==============================] - 246s 7ms/sample - loss: 0.3770 - accuracy: 0.8681 - val_loss: 0.4295 - val_accuracy: 0.8619\n",
      "Changing learning rate to 0.0004\n",
      "Epoch 17/30\n",
      "33280/33280 [==============================] - 252s 8ms/sample - loss: 0.3684 - accuracy: 0.8711 - val_loss: 0.4309 - val_accuracy: 0.8605\n",
      "Changing learning rate to 0.0004\n",
      "Epoch 18/30\n",
      "33280/33280 [==============================] - 249s 7ms/sample - loss: 0.3540 - accuracy: 0.8760 - val_loss: 0.4272 - val_accuracy: 0.8612\n",
      "Changing learning rate to 0.0004\n",
      "Epoch 19/30\n",
      "33280/33280 [==============================] - 251s 8ms/sample - loss: 0.3461 - accuracy: 0.8786 - val_loss: 0.4223 - val_accuracy: 0.8611\n",
      "Changing learning rate to 0.0004\n",
      "Epoch 20/30\n",
      "33280/33280 [==============================] - 246s 7ms/sample - loss: 0.3408 - accuracy: 0.8795 - val_loss: 0.4330 - val_accuracy: 0.8586\n",
      "Changing learning rate to 0.0004\n",
      "Epoch 21/30\n",
      "33280/33280 [==============================] - 246s 7ms/sample - loss: 0.3330 - accuracy: 0.8826 - val_loss: 0.4224 - val_accuracy: 0.8619\n",
      "Changing learning rate to 0.0004\n",
      "Epoch 22/30\n",
      "33280/33280 [==============================] - 246s 7ms/sample - loss: 0.3324 - accuracy: 0.8831 - val_loss: 0.4322 - val_accuracy: 0.8588\n",
      "Changing learning rate to 0.0004\n",
      "Epoch 23/30\n",
      "33280/33280 [==============================] - 250s 8ms/sample - loss: 0.3156 - accuracy: 0.8878 - val_loss: 0.4317 - val_accuracy: 0.8620\n",
      "Changing learning rate to 0.0004\n",
      "Epoch 24/30\n",
      "33280/33280 [==============================] - 253s 8ms/sample - loss: 0.3197 - accuracy: 0.8884 - val_loss: 0.4299 - val_accuracy: 0.8590\n",
      "Changing learning rate to 0.0004\n",
      "Epoch 25/30\n",
      "33280/33280 [==============================] - 246s 7ms/sample - loss: 0.3103 - accuracy: 0.8923 - val_loss: 0.4308 - val_accuracy: 0.8573\n",
      "Changing learning rate to 0.0004\n",
      "Epoch 26/30\n",
      "33280/33280 [==============================] - 251s 8ms/sample - loss: 0.3058 - accuracy: 0.8923 - val_loss: 0.4376 - val_accuracy: 0.8586\n",
      "Changing learning rate to 0.0004\n",
      "Epoch 27/30\n",
      "33280/33280 [==============================] - 247s 7ms/sample - loss: 0.3019 - accuracy: 0.8946 - val_loss: 0.4379 - val_accuracy: 0.8631\n",
      "Changing learning rate to 0.0004\n",
      "Epoch 28/30\n",
      "33280/33280 [==============================] - 246s 7ms/sample - loss: 0.2928 - accuracy: 0.8968 - val_loss: 0.4371 - val_accuracy: 0.8606\n",
      "Changing learning rate to 0.0004\n",
      "Epoch 29/30\n",
      "33248/33280 [============================>.] - ETA: 0s - loss: 0.2863 - accuracy: 0.8991Restoring model weights from the end of the best epoch.\n",
      "33280/33280 [==============================] - 249s 7ms/sample - loss: 0.2863 - accuracy: 0.8990 - val_loss: 0.4344 - val_accuracy: 0.8623\n",
      "Epoch 00029: early stopping\n"
     ]
    }
   ],
   "source": [
    "earlystopper = EarlyStopping(monitor='val_loss', patience=10,verbose=1, restore_best_weights=True)\n",
    "\n",
    "history = model.fit(x_train, y_train,validation_data=(x_test,y_test), epochs=30, verbose=1,callbacks=[earlystopper, lrate])"
   ]
  },
  {
   "cell_type": "markdown",
   "metadata": {},
   "source": [
    "### Save the model"
   ]
  },
  {
   "cell_type": "code",
   "execution_count": 33,
   "metadata": {},
   "outputs": [],
   "source": [
    "model.save('attRNN_model.h5')"
   ]
  },
  {
   "cell_type": "markdown",
   "metadata": {},
   "source": [
    "### Check the maximum validation and training accuray"
   ]
  },
  {
   "cell_type": "code",
   "execution_count": 23,
   "metadata": {},
   "outputs": [
    {
     "name": "stdout",
     "output_type": "stream",
     "text": [
      "Maximum training accuracy:  0.89903843\n",
      "Maximum validation accuracy:  0.8631174\n"
     ]
    }
   ],
   "source": [
    "# Evaluating the model on the training and testing set\n",
    "print(\"Maximum training accuracy: \", max(history.history['accuracy']))\n",
    "print(\"Maximum validation accuracy: \", max(history.history['val_accuracy']))"
   ]
  },
  {
   "cell_type": "markdown",
   "metadata": {},
   "source": [
    "### Plot results"
   ]
  },
  {
   "cell_type": "markdown",
   "metadata": {},
   "source": [
    "#### Visualize validation and training loss"
   ]
  },
  {
   "cell_type": "code",
   "execution_count": 37,
   "metadata": {},
   "outputs": [
    {
     "data": {
      "image/png": "[encoded data removed]",
      "text/plain": [
       "<Figure size 432x288 with 1 Axes>"
      ]
     },
     "metadata": {
      "needs_background": "light"
     },
     "output_type": "display_data"
    }
   ],
   "source": [
    "from matplotlib import pyplot\n",
    "pyplot.plot(history.history['loss'], label='training loss')\n",
    "pyplot.plot(history.history['val_loss'], label='validation loss')\n",
    "pyplot.legend()\n",
    "pyplot.show()"
   ]
  },
  {
   "cell_type": "markdown",
   "metadata": {},
   "source": [
    "### Visualize training and validation accuracy"
   ]
  },
  {
   "cell_type": "code",
   "execution_count": 36,
   "metadata": {},
   "outputs": [
    {
     "data": {
      "image/png": "[encoded data removed]",
      "text/plain": [
       "<Figure size 432x288 with 1 Axes>"
      ]
     },
     "metadata": {
      "needs_background": "light"
     },
     "output_type": "display_data"
    }
   ],
   "source": [
    "from matplotlib import pyplot\n",
    "pyplot.plot(history.history['accuracy'], label='training accuracy')\n",
    "pyplot.plot(history.history['val_accuracy'], label='validation accuracy')\n",
    "pyplot.legend()\n",
    "pyplot.show()"
   ]
  },
  {
   "cell_type": "markdown",
   "metadata": {},
   "source": [
    "### Predictions"
   ]
  },
  {
   "cell_type": "code",
   "execution_count": 26,
   "metadata": {},
   "outputs": [
    {
     "name": "stdout",
     "output_type": "stream",
     "text": [
      "\n",
      "Audio: happy\n",
      "Text: happy\n",
      "\n",
      "Audio: stop\n",
      "Text: stop\n",
      "\n",
      "Audio: unknown\n",
      "Text: unknown\n",
      "\n",
      "Audio: down\n",
      "Text: down\n",
      "\n",
      "Audio: no\n",
      "Text: no\n",
      "\n",
      "Audio: backward\n",
      "Text: backward\n",
      "\n",
      "Audio: up\n",
      "Text: up\n",
      "\n",
      "Audio: happy\n",
      "Text: happy\n",
      "\n",
      "Audio: yes\n",
      "Text: yes\n",
      "\n",
      "Audio: unknown\n",
      "Text: unknown\n"
     ]
    }
   ],
   "source": [
    "def predict(audio):\n",
    "    prob=model.predict(audio.reshape(1,40,16,1))\n",
    "    index=np.argmax(prob[0])\n",
    "    return classes[index]\n",
    "\n",
    "\n",
    "import random\n",
    "for i in range(10):\n",
    "    index=random.randint(0,len(x_test)-1)\n",
    "    samples=x_test[index].ravel()\n",
    "    print(\"\\nAudio:\",classes[np.argmax(y_test[index])])\n",
    "    print(\"Text:\",predict(samples))"
   ]
  },
  {
   "cell_type": "markdown",
   "metadata": {},
   "source": [
    "### Generate Confusion Matrix"
   ]
  },
  {
   "cell_type": "code",
   "execution_count": 27,
   "metadata": {},
   "outputs": [],
   "source": [
    "y_pred = model.predict(x_test)"
   ]
  },
  {
   "cell_type": "code",
   "execution_count": 28,
   "metadata": {},
   "outputs": [],
   "source": [
    "y_pred_again = []\n",
    "for i in range(len(y_pred)):\n",
    "    r = np.zeros(12)\n",
    "    r[np.argmax(y_pred[i])] = 1\n",
    "    y_pred_again.append(r)"
   ]
  },
  {
   "cell_type": "code",
   "execution_count": 29,
   "metadata": {},
   "outputs": [],
   "source": [
    "yyyyy = np.array(y_pred_again)"
   ]
  },
  {
   "cell_type": "code",
   "execution_count": 30,
   "metadata": {},
   "outputs": [],
   "source": [
    "from sklearn.metrics import confusion_matrix\n",
    "cm = confusion_matrix(y_test.argmax(axis=1), yyyyy.argmax(axis=1))"
   ]
  },
  {
   "cell_type": "code",
   "execution_count": 31,
   "metadata": {},
   "outputs": [
    {
     "data": {
      "image/png": "[encoded data removed]",
      "text/plain": [
       "<Figure size 1080x1080 with 1 Axes>"
      ]
     },
     "metadata": {
      "needs_background": "light"
     },
     "output_type": "display_data"
    }
   ],
   "source": [
    "import seaborn as sns\n",
    "plt.figure(figsize=(15, 15))\n",
    "sns.heatmap(cm.T, square=True, annot=True, fmt='d', cbar=False,\n",
    "            xticklabels=classes,\n",
    "            yticklabels=classes)\n",
    "\n",
    "plt.xlabel('True Label', fontsize = 20)\n",
    "plt.ylabel('Predicted Label', fontsize = 20);"
   ]
  },
  {
   "cell_type": "markdown",
   "metadata": {},
   "source": [
    "### Classification Report"
   ]
  },
  {
   "cell_type": "code",
   "execution_count": 32,
   "metadata": {},
   "outputs": [
    {
     "name": "stdout",
     "output_type": "stream",
     "text": [
      "(8321,) (8321,)\n",
      "              precision    recall  f1-score   support\n",
      "\n",
      "    backward       0.82      0.85      0.83       318\n",
      "        down       0.82      0.84      0.83       792\n",
      "     forward       0.87      0.86      0.87       350\n",
      "       happy       0.91      0.90      0.90       400\n",
      "          no       0.79      0.84      0.81       763\n",
      "         off       0.84      0.79      0.81       743\n",
      "          on       0.84      0.86      0.85       758\n",
      "     silence       0.99      1.00      0.99       200\n",
      "        stop       0.91      0.80      0.85       794\n",
      "     unknown       0.89      0.93      0.90      1617\n",
      "          up       0.79      0.80      0.79       783\n",
      "         yes       0.95      0.91      0.93       803\n",
      "\n",
      "    accuracy                           0.86      8321\n",
      "   macro avg       0.87      0.86      0.87      8321\n",
      "weighted avg       0.86      0.86      0.86      8321\n",
      "\n"
     ]
    }
   ],
   "source": [
    "\n",
    "from sklearn.metrics import classification_report\n",
    "\n",
    "y_true = y_test.argmax(axis=1)\n",
    "y_pred = model.predict(x_test)\n",
    "\n",
    "y_pred_again = []\n",
    "for i in range(len(y_pred)):\n",
    "    r = np.zeros(12)\n",
    "    r[np.argmax(y_pred[i])] = 1\n",
    "    y_pred_again.append(r)\n",
    "    \n",
    "yyyyy = np.array(y_pred_again)\n",
    "y_pred = np.argmax(yyyyy, axis=1)\n",
    "target_names = classes\n",
    "\n",
    "print(y_true.shape, y_pred.shape)\n",
    "print(classification_report(y_true, y_pred, target_names=target_names))\n"
   ]
  },
  {
   "cell_type": "code",
   "execution_count": null,
   "metadata": {},
   "outputs": [],
   "source": []
  }
 ],
 "metadata": {
  "kernelspec": {
   "display_name": "Python 3",
   "language": "python",
   "name": "python3"
  },
  "language_info": {
   "codemirror_mode": {
    "name": "ipython",
    "version": 3
   },
   "file_extension": ".py",
   "mimetype": "text/x-python",
   "name": "python",
   "nbconvert_exporter": "python",
   "pygments_lexer": "ipython3",
   "version": "3.7.3"
  }
 },
 "nbformat": 4,
 "nbformat_minor": 4
}
