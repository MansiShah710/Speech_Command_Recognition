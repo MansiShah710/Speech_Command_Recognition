{
 "cells": [
  {
   "cell_type": "markdown",
   "metadata": {},
   "source": [
    "#  <font color='red'> Check Predictions </font>"
   ]
  },
  {
   "cell_type": "markdown",
   "metadata": {},
   "source": [
    "### Import Required Libraries"
   ]
  },
  {
   "cell_type": "code",
   "execution_count": 1,
   "metadata": {},
   "outputs": [],
   "source": [
    "from tensorflow.keras.layers import Dense, Dropout, Flatten, Conv1D, Input, MaxPooling1D\n",
    "from tensorflow.keras.models import Model\n",
    "from tensorflow.keras.callbacks import EarlyStopping, ModelCheckpoint\n",
    "from tensorflow.keras import backend as K\n",
    "import matplotlib.pyplot as plt \n",
    "from scipy import signal \n",
    "from scipy.io import wavfile \n",
    "import os \n",
    "import IPython.display as ipd\n",
    "import math as mt \n",
    "import librosa \n",
    "from librosa.display import waveplot\n",
    "import tensorflow \n",
    "import numpy as np"
   ]
  },
  {
   "cell_type": "markdown",
   "metadata": {},
   "source": [
    "### Define classes"
   ]
  },
  {
   "cell_type": "code",
   "execution_count": 2,
   "metadata": {},
   "outputs": [],
   "source": [
    "classes = [\n",
    " 'backward',\n",
    " 'down',\n",
    " 'forward',\n",
    " 'happy',\n",
    " 'no',\n",
    " 'off',\n",
    " 'on',\n",
    " 'silence',\n",
    " 'stop',\n",
    " 'unknown',\n",
    " 'up',\n",
    " 'yes']"
   ]
  },
  {
   "cell_type": "markdown",
   "metadata": {},
   "source": [
    "## Create Your Own Recordings"
   ]
  },
  {
   "cell_type": "markdown",
   "metadata": {},
   "source": [
    "### 1. Load 1D CNN model "
   ]
  },
  {
   "cell_type": "code",
   "execution_count": 3,
   "metadata": {},
   "outputs": [],
   "source": [
    "model = tensorflow.keras.models.load_model('Saved_Models/conv1d_model.h5')"
   ]
  },
  {
   "cell_type": "code",
   "execution_count": 4,
   "metadata": {},
   "outputs": [],
   "source": [
    "def predict_conv1d(audio):\n",
    "    prob=model.predict(audio.reshape(1,8000,1))\n",
    "    index=np.argmax(prob[0])\n",
    "    return classes[index]"
   ]
  },
  {
   "cell_type": "code",
   "execution_count": 5,
   "metadata": {},
   "outputs": [
    {
     "name": "stdout",
     "output_type": "stream",
     "text": [
      "start recording...\n",
      "end\n"
     ]
    }
   ],
   "source": [
    "import sounddevice as sd\n",
    "import soundfile as sf\n",
    "\n",
    "samplerate = 8000  \n",
    "duration = 1 # seconds\n",
    "filename = 'test.wav'\n",
    "print(\"start recording...\")\n",
    "mydata = sd.rec(int(samplerate * duration), samplerate=samplerate, channels=1, blocking=True)\n",
    "print(\"end\")\n",
    "sd.wait()\n",
    "sf.write(filename, mydata, samplerate)"
   ]
  },
  {
   "cell_type": "code",
   "execution_count": 6,
   "metadata": {},
   "outputs": [
    {
     "data": {
      "text/html": [
       "\n",
       "                <audio  controls=\"controls\" >\n",
       "                    <source src=\"data:audio/wav;base64,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\" type=\"audio/wav\" />\n",
       "                    Your browser does not support the audio element.\n",
       "                </audio>\n",
       "              "
      ],
      "text/plain": [
       "<IPython.lib.display.Audio object>"
      ]
     },
     "execution_count": 6,
     "metadata": {},
     "output_type": "execute_result"
    }
   ],
   "source": [
    "samples, sample_rate = librosa.load(filename, sr = 8000)\n",
    "samples = librosa.resample(samples, sample_rate, 8000)\n",
    "ipd.Audio(samples,rate=8000)    "
   ]
  },
  {
   "cell_type": "code",
   "execution_count": 7,
   "metadata": {},
   "outputs": [
    {
     "data": {
      "text/plain": [
       "'silence'"
      ]
     },
     "execution_count": 7,
     "metadata": {},
     "output_type": "execute_result"
    }
   ],
   "source": [
    "predict_conv1d(samples)"
   ]
  },
  {
   "cell_type": "markdown",
   "metadata": {},
   "source": [
    "### 2. Load 2D CNN Model"
   ]
  },
  {
   "cell_type": "code",
   "execution_count": 8,
   "metadata": {},
   "outputs": [],
   "source": [
    "model2 = tensorflow.keras.models.load_model('Saved_Models/Conv2D_model.h5')"
   ]
  },
  {
   "cell_type": "code",
   "execution_count": 9,
   "metadata": {},
   "outputs": [],
   "source": [
    "def predict_conv2d(audio):\n",
    "    feee=librosa.feature.mfcc(y=audio, sr=sample_rate, n_mfcc=40)\n",
    "    prob=model2.predict(feee.reshape(1,40,16,1))\n",
    "    index=np.argmax(prob[0])\n",
    "    return classes[index]"
   ]
  },
  {
   "cell_type": "markdown",
   "metadata": {},
   "source": [
    "## Create Your Own Recordings"
   ]
  },
  {
   "cell_type": "code",
   "execution_count": 10,
   "metadata": {},
   "outputs": [
    {
     "name": "stdout",
     "output_type": "stream",
     "text": [
      "start recording...\n",
      "end\n"
     ]
    }
   ],
   "source": [
    "import sounddevice as sd\n",
    "import soundfile as sf\n",
    "\n",
    "samplerate = 8000  \n",
    "duration = 1 # seconds\n",
    "filename = 'test.wav'\n",
    "print(\"start recording...\")\n",
    "mydata = sd.rec(int(samplerate * duration), samplerate=samplerate, channels=1, blocking=True)\n",
    "print(\"end\")\n",
    "sd.wait()\n",
    "sf.write(filename, mydata, samplerate)"
   ]
  },
  {
   "cell_type": "code",
   "execution_count": 11,
   "metadata": {},
   "outputs": [
    {
     "data": {
      "text/html": [
       "\n",
       "                <audio  controls=\"controls\" >\n",
       "                    <source src=\"data:audio/wav;base64,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\" type=\"audio/wav\" />\n",
       "                    Your browser does not support the audio element.\n",
       "                </audio>\n",
       "              "
      ],
      "text/plain": [
       "<IPython.lib.display.Audio object>"
      ]
     },
     "execution_count": 11,
     "metadata": {},
     "output_type": "execute_result"
    }
   ],
   "source": [
    "samples, sample_rate = librosa.load(filename, sr = 8000)\n",
    "samples = librosa.resample(samples, sample_rate, 8000)\n",
    "ipd.Audio(samples,rate=8000)  "
   ]
  },
  {
   "cell_type": "code",
   "execution_count": 12,
   "metadata": {},
   "outputs": [
    {
     "data": {
      "text/plain": [
       "'stop'"
      ]
     },
     "execution_count": 12,
     "metadata": {},
     "output_type": "execute_result"
    }
   ],
   "source": [
    "predict_conv2d(samples)"
   ]
  },
  {
   "cell_type": "markdown",
   "metadata": {},
   "source": [
    "### 3. Load RNN with Attention Model"
   ]
  },
  {
   "cell_type": "code",
   "execution_count": 13,
   "metadata": {},
   "outputs": [],
   "source": [
    "model3 = tensorflow.keras.models.load_model('Saved_Models/attRNN_model.h5')"
   ]
  },
  {
   "cell_type": "code",
   "execution_count": 14,
   "metadata": {},
   "outputs": [],
   "source": [
    "def predict_attRNN(audio):\n",
    "    feee=librosa.feature.mfcc(y=audio, sr=sample_rate, n_mfcc=40)\n",
    "    prob=model3.predict(feee.reshape(1,40,16,1))\n",
    "    index=np.argmax(prob[0])\n",
    "    return classes[index]"
   ]
  },
  {
   "cell_type": "code",
   "execution_count": 18,
   "metadata": {},
   "outputs": [
    {
     "name": "stdout",
     "output_type": "stream",
     "text": [
      "start recording...\n",
      "end\n"
     ]
    }
   ],
   "source": [
    "import sounddevice as sd\n",
    "import soundfile as sf\n",
    "\n",
    "samplerate = 8000  \n",
    "duration = 1 # seconds\n",
    "filename = 'test.wav'\n",
    "print(\"start recording...\")\n",
    "mydata = sd.rec(int(samplerate * duration), samplerate=samplerate, channels=1, blocking=True)\n",
    "print(\"end\")\n",
    "sd.wait()\n",
    "sf.write(filename, mydata, samplerate)"
   ]
  },
  {
   "cell_type": "code",
   "execution_count": 19,
   "metadata": {},
   "outputs": [
    {
     "data": {
      "text/html": [
       "\n",
       "                <audio  controls=\"controls\" >\n",
       "                    <source src=\"data:audio/wav;base64,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\" type=\"audio/wav\" />\n",
       "                    Your browser does not support the audio element.\n",
       "                </audio>\n",
       "              "
      ],
      "text/plain": [
       "<IPython.lib.display.Audio object>"
      ]
     },
     "execution_count": 19,
     "metadata": {},
     "output_type": "execute_result"
    }
   ],
   "source": [
    "samples, sample_rate = librosa.load(filename, sr = 8000)\n",
    "samples = librosa.resample(samples, sample_rate, 8000)\n",
    "ipd.Audio(samples,rate=8000)    "
   ]
  },
  {
   "cell_type": "code",
   "execution_count": 20,
   "metadata": {},
   "outputs": [
    {
     "data": {
      "text/plain": [
       "'backward'"
      ]
     },
     "execution_count": 20,
     "metadata": {},
     "output_type": "execute_result"
    }
   ],
   "source": [
    "predict_attRNN(samples)"
   ]
  },
  {
   "cell_type": "code",
   "execution_count": null,
   "metadata": {},
   "outputs": [],
   "source": []
  }
 ],
 "metadata": {
  "kernelspec": {
   "display_name": "Python 3",
   "language": "python",
   "name": "python3"
  },
  "language_info": {
   "codemirror_mode": {
    "name": "ipython",
    "version": 3
   },
   "file_extension": ".py",
   "mimetype": "text/x-python",
   "name": "python",
   "nbconvert_exporter": "python",
   "pygments_lexer": "ipython3",
   "version": "3.7.3"
  }
 },
 "nbformat": 4,
 "nbformat_minor": 2
}
