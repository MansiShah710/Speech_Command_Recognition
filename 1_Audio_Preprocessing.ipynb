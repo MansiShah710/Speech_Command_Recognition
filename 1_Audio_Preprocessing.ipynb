{
 "cells": [
  {
   "cell_type": "markdown",
   "metadata": {},
   "source": [
    "#  <font color='red'> Data Pre-Processing </font>"
   ]
  },
  {
   "cell_type": "markdown",
   "metadata": {},
   "source": [
    "### Import libraries"
   ]
  },
  {
   "cell_type": "code",
   "execution_count": 4,
   "metadata": {},
   "outputs": [],
   "source": [
    "import soundfile as sf\n",
    "import librosa\n",
    "from pydub import AudioSegment\n",
    "import os\n",
    "import warnings\n",
    "warnings.filterwarnings(\"ignore\")"
   ]
  },
  {
   "cell_type": "markdown",
   "metadata": {},
   "source": [
    "### Resampling:\n",
    "\n",
    "##### Originally, the sampling rate of the signal is 16,000 Hz. We have re-sample it to 8000 Hz."
   ]
  },
  {
   "cell_type": "code",
   "execution_count": null,
   "metadata": {},
   "outputs": [],
   "source": [
    "train_audio_path = 'audio_data/Audio_8hz'\n",
    "labels=os.listdir(train_audio_path)\n",
    "for label in labels:\n",
    "    waves = [f for f in os.listdir(train_audio_path + '/'+ label) if f.endswith('.wav')]\n",
    "    for wav in waves:\n",
    "        samples, sample_rate = librosa.load(train_audio_path + '/' + label + '/' + wav, sr = 16000)\n",
    "        samples = librosa.resample(samples, sample_rate, 8000)\n",
    "        sf.write(train_audio_path, samples, 8000)"
   ]
  },
  {
   "cell_type": "markdown",
   "metadata": {},
   "source": [
    "### Creating a new class - \"Silence\" using different background noise:\n",
    "\n",
    "##### Slicing a background noise audio files of approx 1 min duration to multiple 1 second  audio chunks"
   ]
  },
  {
   "cell_type": "code",
   "execution_count": 6,
   "metadata": {},
   "outputs": [],
   "source": [
    "\n",
    "def slice_audio(audio_file, end):\n",
    "    \"\"\" Slices a single audio file into 1 second chunks \"\"\"\n",
    "    start = 0\n",
    "    end *= 1000\n",
    "    audio = AudioSegment.from_wav(audio_file)\n",
    "    slices = []\n",
    "\n",
    "    for i in range(60):\n",
    "        audio_slice = audio[start:end]\n",
    "        slices.append(audio_slice)\n",
    "        start += 1000\n",
    "        end += 1000\n",
    "\n",
    "    return slices\n"
   ]
  },
  {
   "cell_type": "code",
   "execution_count": null,
   "metadata": {},
   "outputs": [],
   "source": [
    "slices = slice_audio('audio_data/bn/doing_the_dishes.wav', 1)\n",
    "for idx, audio in enumerate(slices):\n",
    "        audio.export(f\"dishes{str(idx)}.wav\", format=\"wav\")\n",
    "\n",
    "slices = slice_audio('audio_data/bn/dude_miaowing.wav', 1)\n",
    "for idx, audio in enumerate(slices):\n",
    "        audio.export(f\"dude{str(idx)}.wav\", format=\"wav\")\n",
    "\n",
    "slices = slice_audio('audio_data/bn/exercise_bike.wav', 1)\n",
    "for idx, audio in enumerate(slices):\n",
    "        audio.export(f\"bike{str(idx)}.wav\", format=\"wav\")\n",
    "        \n",
    "slices = slice_audio('audio_data/bn/pink_noise.wav', 1)\n",
    "for idx, audio in enumerate(slices):\n",
    "        audio.export(f\"pink{str(idx)}.wav\", format=\"wav\")\n",
    "\n",
    "slices = slice_audio('audio_data/bn/running_tap.wav', 1)\n",
    "for idx, audio in enumerate(slices):\n",
    "        audio.export(f\"tap{str(idx)}.wav\", format=\"wav\")\n",
    "\n",
    "slices = slice_audio('audio_data/bn/white_noise.wav', 1)\n",
    "for idx, audio in enumerate(slices):\n",
    "        audio.export(f\"white{str(idx)}.wav\", format=\"wav\")\n"
   ]
  },
  {
   "cell_type": "markdown",
   "metadata": {},
   "source": [
    "### Words chosen"
   ]
  },
  {
   "cell_type": "code",
   "execution_count": 5,
   "metadata": {},
   "outputs": [
    {
     "data": {
      "text/plain": [
       "['backward',\n",
       " 'happy',\n",
       " 'silence',\n",
       " 'no',\n",
       " 'nine',\n",
       " 'stop',\n",
       " 'zero',\n",
       " 'up',\n",
       " 'down',\n",
       " 'yes',\n",
       " 'on',\n",
       " 'forward',\n",
       " 'off']"
      ]
     },
     "execution_count": 5,
     "metadata": {},
     "output_type": "execute_result"
    }
   ],
   "source": [
    "train_audio_path = 'audio_data/Audio_8hz/'\n",
    "labels=os.listdir(train_audio_path)\n",
    "labels"
   ]
  },
  {
   "cell_type": "markdown",
   "metadata": {},
   "source": [
    "### Creating a new class 'unknown' which consist of zero and nine:\n",
    "##### Treating zero and nine category as unknown"
   ]
  },
  {
   "cell_type": "code",
   "execution_count": 13,
   "metadata": {},
   "outputs": [
    {
     "name": "stdout",
     "output_type": "stream",
     "text": [
      "['backward', 'happy', 'silence', 'no', 'unknown', 'stop', 'up', 'down', 'yes', 'on', 'forward', 'off']\n"
     ]
    }
   ],
   "source": [
    "classes = []\n",
    "unknown_classes = ['zero', 'nine']\n",
    "for label in labels:\n",
    "    if label in unknown_classes:\n",
    "        if 'unknown' not in classes:\n",
    "            classes.append('unknown')\n",
    "    else:\n",
    "        classes.append(label)\n",
    "print(classes)\n",
    "        "
   ]
  },
  {
   "cell_type": "markdown",
   "metadata": {},
   "source": [
    "### Total classes: 12 ( common vocabulary words)"
   ]
  },
  {
   "cell_type": "code",
   "execution_count": null,
   "metadata": {},
   "outputs": [],
   "source": [
    "'backward',\n",
    "'forward',\n",
    "'yes',\n",
    "'no',\n",
    "'up',\n",
    "'down',\n",
    "'on',\n",
    "'off,\n",
    "'stop',\n",
    "'happy',\n",
    "'unknown', # ZERO AND NINE\n",
    "'silence'  # BACKGROUND NOISE"
   ]
  }
 ],
 "metadata": {
  "kernelspec": {
   "display_name": "Python 3",
   "language": "python",
   "name": "python3"
  },
  "language_info": {
   "codemirror_mode": {
    "name": "ipython",
    "version": 3
   },
   "file_extension": ".py",
   "mimetype": "text/x-python",
   "name": "python",
   "nbconvert_exporter": "python",
   "pygments_lexer": "ipython3",
   "version": "3.7.3"
  }
 },
 "nbformat": 4,
 "nbformat_minor": 2
}
