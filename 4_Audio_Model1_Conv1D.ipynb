{
 "cells": [
  {
   "cell_type": "markdown",
   "metadata": {},
   "source": [
    "##  <font color='red'> Model 1: Audio recognition using 1D Convolutional Neural Network </font>"
   ]
  },
  {
   "cell_type": "code",
   "execution_count": 1,
   "metadata": {},
   "outputs": [
    {
     "name": "stdout",
     "output_type": "stream",
     "text": [
      "Populating the interactive namespace from numpy and matplotlib\n"
     ]
    }
   ],
   "source": [
    "import matplotlib.pyplot as plt \n",
    "from scipy import signal \n",
    "from scipy.io import wavfile \n",
    "import os \n",
    "import IPython.display as ipd\n",
    "import math as mt \n",
    "import librosa \n",
    "from librosa.display import waveplot\n",
    "from tensorflow.keras.layers import Dense, Dropout, Flatten, Conv1D, Input, MaxPooling1D\n",
    "from tensorflow.keras.models import Model\n",
    "from tensorflow.keras.callbacks import EarlyStopping, ModelCheckpoint\n",
    "from tensorflow.keras import backend as K\n",
    "import tensorflow \n",
    "import numpy as np\n",
    "\n",
    "%matplotlib inline \n",
    "%pylab inline"
   ]
  },
  {
   "cell_type": "markdown",
   "metadata": {},
   "source": [
    "### Total number of classes:  12\n",
    "\n",
    "'backward',\n",
    "'forward',\n",
    "'yes'\n",
    "'no',\n",
    "'on',\n",
    "'off',\n",
    "'up',\n",
    "'down',\n",
    "'stop',\n",
    "'happy',\n",
    "'silence',\n",
    "'unknown'\n",
    "##### The model will predict \"zero\" and \"nine\" as unknown"
   ]
  },
  {
   "cell_type": "code",
   "execution_count": 2,
   "metadata": {},
   "outputs": [],
   "source": [
    "train_audio_path = 'audio_data/Audio_8hz/'"
   ]
  },
  {
   "cell_type": "code",
   "execution_count": 3,
   "metadata": {},
   "outputs": [
    {
     "data": {
      "text/plain": [
       "['backward',\n",
       " 'happy',\n",
       " 'silence',\n",
       " 'no',\n",
       " 'nine',\n",
       " 'stop',\n",
       " 'zero',\n",
       " 'up',\n",
       " 'down',\n",
       " 'yes',\n",
       " 'on',\n",
       " 'forward',\n",
       " 'off']"
      ]
     },
     "execution_count": 3,
     "metadata": {},
     "output_type": "execute_result"
    }
   ],
   "source": [
    "labels=os.listdir(train_audio_path)\n",
    "labels"
   ]
  },
  {
   "cell_type": "code",
   "execution_count": 4,
   "metadata": {},
   "outputs": [],
   "source": [
    "labels_to_consider = [\n",
    " 'backward',\n",
    " 'down',\n",
    " 'forward',\n",
    " 'happy',\n",
    " 'no',\n",
    " 'on',\n",
    " 'off',\n",
    " 'silence',\n",
    " 'stop',\n",
    " 'up',\n",
    " 'yes']"
   ]
  },
  {
   "cell_type": "markdown",
   "metadata": {},
   "source": [
    "### Loading the data and assigning unknown category to zero and nine\n",
    "\n",
    "#### Ignoring audio files with length less than 1 sec"
   ]
  },
  {
   "cell_type": "code",
   "execution_count": 5,
   "metadata": {},
   "outputs": [
    {
     "name": "stdout",
     "output_type": "stream",
     "text": [
      "backward\n",
      "happy\n",
      "silence\n",
      "no\n",
      "nine\n",
      "stop\n",
      "zero\n",
      "up\n",
      "down\n",
      "yes\n",
      "on\n",
      "forward\n",
      "off\n"
     ]
    }
   ],
   "source": [
    "all_wave = []\n",
    "all_label = []\n",
    "for label in labels:\n",
    "    print(label)\n",
    "    waves = [f for f in os.listdir(train_audio_path + '/'+ label) if f.endswith('.wav')]\n",
    "    for wav in waves:\n",
    "        samples, sample_rate = librosa.load(train_audio_path + '/' + label + '/' + wav, sr = 8000)\n",
    "        if(len(samples)== 8000): \n",
    "            all_wave.append(samples)\n",
    "            if label in labels_to_consider:\n",
    "                all_label.append(label)\n",
    "            else:\n",
    "                all_label.append('unknown')"
   ]
  },
  {
   "cell_type": "markdown",
   "metadata": {},
   "source": [
    "#### Convert the output labels to integer encoded:"
   ]
  },
  {
   "cell_type": "code",
   "execution_count": 6,
   "metadata": {},
   "outputs": [],
   "source": [
    "from sklearn.preprocessing import LabelEncoder\n",
    "le = LabelEncoder()\n",
    "y=le.fit_transform(all_label)\n",
    "classes= list(le.classes_)"
   ]
  },
  {
   "cell_type": "markdown",
   "metadata": {},
   "source": [
    "#### Final list of classes"
   ]
  },
  {
   "cell_type": "code",
   "execution_count": 7,
   "metadata": {},
   "outputs": [
    {
     "data": {
      "text/plain": [
       "['backward',\n",
       " 'down',\n",
       " 'forward',\n",
       " 'happy',\n",
       " 'no',\n",
       " 'off',\n",
       " 'on',\n",
       " 'silence',\n",
       " 'stop',\n",
       " 'unknown',\n",
       " 'up',\n",
       " 'yes']"
      ]
     },
     "execution_count": 7,
     "metadata": {},
     "output_type": "execute_result"
    }
   ],
   "source": [
    "classes"
   ]
  },
  {
   "cell_type": "markdown",
   "metadata": {},
   "source": [
    "### Check the baseline using majority classification rule:\n",
    "#### The majority class in this model is \"unknown\" with the 19.2% of audio files. So, the baseline of this model is 19.2%"
   ]
  },
  {
   "cell_type": "code",
   "execution_count": 8,
   "metadata": {},
   "outputs": [
    {
     "name": "stdout",
     "output_type": "stream",
     "text": [
      "backward\t4.0%\n",
      "happy\t4.9%\n",
      "silence\t2.7%\n",
      "no\t9.5%\n",
      "stop\t9.3%\n",
      "up\t8.9%\n",
      "down\t9.4%\n",
      "yes\t9.7%\n",
      "on\t9.2%\n",
      "forward\t4.1%\n",
      "off\t9.0%\n",
      "unknown\t19.2%\n"
     ]
    }
   ],
   "source": [
    "count_unknown = 0\n",
    "train_audio_path = 'audio_data/Audio_8hz/'\n",
    "labels=os.listdir(train_audio_path)\n",
    "total_count = 0\n",
    "for label in labels:\n",
    "    total_count = total_count + len(os.listdir(train_audio_path+label))\n",
    "for label in labels:\n",
    "    if label == 'zero' or label == 'nine':\n",
    "        count = len(os.listdir(train_audio_path+label))\n",
    "        count_unknown = count_unknown + count\n",
    "    else:\n",
    "        count = len(os.listdir(train_audio_path+label))\n",
    "        print(label+'\\t'+str(round(count/total_count*100,1))+'%')\n",
    "print('unknown' +'\\t'+str(round(count_unknown/total_count*100,1))+'%')"
   ]
  },
  {
   "cell_type": "markdown",
   "metadata": {},
   "source": [
    "#### Convert the integer encoded labels to a one-hot vector since it is a multi-classification problem:"
   ]
  },
  {
   "cell_type": "code",
   "execution_count": 9,
   "metadata": {},
   "outputs": [
    {
     "name": "stderr",
     "output_type": "stream",
     "text": [
      "Using TensorFlow backend.\n"
     ]
    }
   ],
   "source": [
    "from keras.utils import np_utils\n",
    "y=np_utils.to_categorical(y, num_classes=len(classes))"
   ]
  },
  {
   "cell_type": "markdown",
   "metadata": {},
   "source": [
    "#### Reshape the 2D array to 3D since the input to the conv1d must be a 3D array:"
   ]
  },
  {
   "cell_type": "code",
   "execution_count": 10,
   "metadata": {},
   "outputs": [],
   "source": [
    "all_wave = np.array(all_wave).reshape(-1,8000,1)"
   ]
  },
  {
   "cell_type": "markdown",
   "metadata": {},
   "source": [
    "#### Split into train and validation set\n",
    "Next, we will train the model on 80% of the data and validate on the remaining 20%:"
   ]
  },
  {
   "cell_type": "code",
   "execution_count": 11,
   "metadata": {},
   "outputs": [],
   "source": [
    "from sklearn.model_selection import train_test_split\n",
    "x_tr, x_val, y_tr, y_val = train_test_split(np.array(all_wave),np.array(y),stratify=y,test_size = 0.2,random_state=777,shuffle=True)"
   ]
  },
  {
   "cell_type": "code",
   "execution_count": 41,
   "metadata": {},
   "outputs": [
    {
     "data": {
      "text/plain": [
       "(30367, 8000, 1)"
      ]
     },
     "execution_count": 41,
     "metadata": {},
     "output_type": "execute_result"
    }
   ],
   "source": [
    "x_tr.shape"
   ]
  },
  {
   "cell_type": "markdown",
   "metadata": {},
   "source": [
    "### Model building\n",
    "Let us implement the model using Keras functional API."
   ]
  },
  {
   "cell_type": "code",
   "execution_count": 16,
   "metadata": {},
   "outputs": [
    {
     "name": "stdout",
     "output_type": "stream",
     "text": [
      "Model: \"model_1\"\n",
      "_________________________________________________________________\n",
      "Layer (type)                 Output Shape              Param #   \n",
      "=================================================================\n",
      "input_2 (InputLayer)         [(None, 8000, 1)]         0         \n",
      "_________________________________________________________________\n",
      "conv1d_4 (Conv1D)            (None, 8000, 32)          448       \n",
      "_________________________________________________________________\n",
      "max_pooling1d_4 (MaxPooling1 (None, 2666, 32)          0         \n",
      "_________________________________________________________________\n",
      "dropout_6 (Dropout)          (None, 2666, 32)          0         \n",
      "_________________________________________________________________\n",
      "conv1d_5 (Conv1D)            (None, 2666, 32)          11296     \n",
      "_________________________________________________________________\n",
      "max_pooling1d_5 (MaxPooling1 (None, 888, 32)           0         \n",
      "_________________________________________________________________\n",
      "dropout_7 (Dropout)          (None, 888, 32)           0         \n",
      "_________________________________________________________________\n",
      "conv1d_6 (Conv1D)            (None, 888, 64)           18496     \n",
      "_________________________________________________________________\n",
      "max_pooling1d_6 (MaxPooling1 (None, 296, 64)           0         \n",
      "_________________________________________________________________\n",
      "dropout_8 (Dropout)          (None, 296, 64)           0         \n",
      "_________________________________________________________________\n",
      "conv1d_7 (Conv1D)            (None, 296, 128)          57472     \n",
      "_________________________________________________________________\n",
      "max_pooling1d_7 (MaxPooling1 (None, 98, 128)           0         \n",
      "_________________________________________________________________\n",
      "dropout_9 (Dropout)          (None, 98, 128)           0         \n",
      "_________________________________________________________________\n",
      "flatten_1 (Flatten)          (None, 12544)             0         \n",
      "_________________________________________________________________\n",
      "dense_3 (Dense)              (None, 1024)              12846080  \n",
      "_________________________________________________________________\n",
      "dropout_10 (Dropout)         (None, 1024)              0         \n",
      "_________________________________________________________________\n",
      "dense_4 (Dense)              (None, 256)               262400    \n",
      "_________________________________________________________________\n",
      "dropout_11 (Dropout)         (None, 256)               0         \n",
      "_________________________________________________________________\n",
      "dense_5 (Dense)              (None, 12)                3084      \n",
      "=================================================================\n",
      "Total params: 13,199,276\n",
      "Trainable params: 13,199,276\n",
      "Non-trainable params: 0\n",
      "_________________________________________________________________\n"
     ]
    }
   ],
   "source": [
    "from tensorflow.keras.layers import Dense, Dropout, Flatten, Conv1D, Input, MaxPooling1D\n",
    "from tensorflow.keras.models import Model\n",
    "from tensorflow.keras.callbacks import EarlyStopping, ModelCheckpoint\n",
    "from tensorflow.keras import backend as K\n",
    "import tensorflow \n",
    "\n",
    "\n",
    "inputs = Input(shape=(8000,1))\n",
    "\n",
    "#First Conv1D layer\n",
    "conv = Conv1D(32,13, padding='same', activation='relu', strides=1)(inputs)\n",
    "conv = MaxPooling1D(3)(conv)\n",
    "conv = Dropout(0.3)(conv)\n",
    "\n",
    "#Second Conv1D layer\n",
    "conv = Conv1D(32, 11, padding='same', activation='relu', strides=1)(conv)\n",
    "conv = MaxPooling1D(3)(conv)\n",
    "conv = Dropout(0.3)(conv)\n",
    "\n",
    "#Third Conv1D layer\n",
    "conv = Conv1D(64, 9, padding='same', activation='relu', strides=1)(conv)\n",
    "conv = MaxPooling1D(3)(conv)\n",
    "conv = Dropout(0.3)(conv)\n",
    "\n",
    "#Fourth Conv1D layer\n",
    "conv = Conv1D(128, 7, padding='same', activation='relu', strides=1)(conv)\n",
    "conv = MaxPooling1D(3)(conv)\n",
    "conv = Dropout(0.3)(conv)\n",
    "\n",
    "#Flatten layer\n",
    "conv = Flatten()(conv)\n",
    "\n",
    "#Dense Layer 1\n",
    "conv = Dense(1024, activation='relu')(conv)\n",
    "conv = Dropout(0.3)(conv)\n",
    "\n",
    "#Dense Layer 2\n",
    "conv = Dense(256, activation='relu')(conv)\n",
    "conv = Dropout(0.3)(conv)\n",
    "\n",
    "outputs = Dense(len(classes), activation='softmax')(conv)\n",
    "\n",
    "model = Model(inputs, outputs)\n",
    "model.summary()"
   ]
  },
  {
   "cell_type": "markdown",
   "metadata": {},
   "source": [
    "#### Define the loss function to be categorical cross-entropy since it is a multi-classification problem:"
   ]
  },
  {
   "cell_type": "code",
   "execution_count": 17,
   "metadata": {},
   "outputs": [],
   "source": [
    "model.compile(loss='categorical_crossentropy',optimizer='adam',metrics=['accuracy'])"
   ]
  },
  {
   "cell_type": "markdown",
   "metadata": {},
   "source": [
    "#### Early stopping is the callbacks to stop training the neural network at the right time "
   ]
  },
  {
   "cell_type": "code",
   "execution_count": 18,
   "metadata": {},
   "outputs": [],
   "source": [
    "es = EarlyStopping(monitor='val_loss', mode='min', verbose=1, patience=5, min_delta=0.0001) "
   ]
  },
  {
   "cell_type": "markdown",
   "metadata": {},
   "source": [
    "#### Train the model on 50 epochs and batch size of 32"
   ]
  },
  {
   "cell_type": "code",
   "execution_count": 19,
   "metadata": {},
   "outputs": [
    {
     "name": "stdout",
     "output_type": "stream",
     "text": [
      "Train on 30367 samples, validate on 7592 samples\n",
      "Epoch 1/50\n",
      "30367/30367 [==============================] - 585s 19ms/sample - loss: 1.4626 - accuracy: 0.4886 - val_loss: 0.7516 - val_accuracy: 0.7513\n",
      "Epoch 2/50\n",
      "30367/30367 [==============================] - 602s 20ms/sample - loss: 0.7879 - accuracy: 0.7333 - val_loss: 0.5844 - val_accuracy: 0.8093\n",
      "Epoch 3/50\n",
      "30367/30367 [==============================] - 582s 19ms/sample - loss: 0.6171 - accuracy: 0.7934 - val_loss: 0.5517 - val_accuracy: 0.8238\n",
      "Epoch 4/50\n",
      "30367/30367 [==============================] - 577s 19ms/sample - loss: 0.5266 - accuracy: 0.8267 - val_loss: 0.5019 - val_accuracy: 0.8356\n",
      "Epoch 5/50\n",
      "30367/30367 [==============================] - 557s 18ms/sample - loss: 0.4503 - accuracy: 0.8489 - val_loss: 0.4265 - val_accuracy: 0.8645\n",
      "Epoch 6/50\n",
      "30367/30367 [==============================] - 557s 18ms/sample - loss: 0.4037 - accuracy: 0.8649 - val_loss: 0.4001 - val_accuracy: 0.8712\n",
      "Epoch 7/50\n",
      "30367/30367 [==============================] - 565s 19ms/sample - loss: 0.3641 - accuracy: 0.8794 - val_loss: 0.4289 - val_accuracy: 0.8617\n",
      "Epoch 8/50\n",
      "30367/30367 [==============================] - 563s 19ms/sample - loss: 0.3341 - accuracy: 0.8890 - val_loss: 0.4236 - val_accuracy: 0.8754\n",
      "Epoch 9/50\n",
      "30367/30367 [==============================] - 584s 19ms/sample - loss: 0.3120 - accuracy: 0.8958 - val_loss: 0.3416 - val_accuracy: 0.8974\n",
      "Epoch 10/50\n",
      "30367/30367 [==============================] - 620s 20ms/sample - loss: 0.2890 - accuracy: 0.9054 - val_loss: 0.3621 - val_accuracy: 0.8890\n",
      "Epoch 11/50\n",
      "30367/30367 [==============================] - 689s 23ms/sample - loss: 0.2714 - accuracy: 0.9092 - val_loss: 0.3889 - val_accuracy: 0.8821\n",
      "Epoch 12/50\n",
      "30367/30367 [==============================] - 662s 22ms/sample - loss: 0.2521 - accuracy: 0.9180 - val_loss: 0.3891 - val_accuracy: 0.8812\n",
      "Epoch 13/50\n",
      "30367/30367 [==============================] - 677s 22ms/sample - loss: 0.2406 - accuracy: 0.9201 - val_loss: 0.3937 - val_accuracy: 0.8764\n",
      "Epoch 14/50\n",
      "30367/30367 [==============================] - 562s 19ms/sample - loss: 0.2417 - accuracy: 0.9210 - val_loss: 0.3392 - val_accuracy: 0.8971\n",
      "Epoch 15/50\n",
      "30367/30367 [==============================] - 579s 19ms/sample - loss: 0.2237 - accuracy: 0.9260 - val_loss: 0.3701 - val_accuracy: 0.8895\n",
      "Epoch 16/50\n",
      "30367/30367 [==============================] - 565s 19ms/sample - loss: 0.2113 - accuracy: 0.9315 - val_loss: 0.3678 - val_accuracy: 0.8933\n",
      "Epoch 17/50\n",
      "30367/30367 [==============================] - 556s 18ms/sample - loss: 0.2114 - accuracy: 0.9300 - val_loss: 0.3398 - val_accuracy: 0.9011\n",
      "Epoch 18/50\n",
      "30367/30367 [==============================] - 558s 18ms/sample - loss: 0.1890 - accuracy: 0.9378 - val_loss: 0.4023 - val_accuracy: 0.8905\n",
      "Epoch 19/50\n",
      "30367/30367 [==============================] - 557s 18ms/sample - loss: 0.1957 - accuracy: 0.9371 - val_loss: 0.3971 - val_accuracy: 0.8865\n",
      "Epoch 00019: early stopping\n"
     ]
    }
   ],
   "source": [
    "history=model.fit(x_tr, y_tr ,epochs=50, callbacks=[es], batch_size=32, validation_data=(x_val,y_val))"
   ]
  },
  {
   "cell_type": "markdown",
   "metadata": {},
   "source": [
    "### Save the model"
   ]
  },
  {
   "cell_type": "code",
   "execution_count": 43,
   "metadata": {},
   "outputs": [],
   "source": [
    "model.save('conv1D_model.h5')"
   ]
  },
  {
   "cell_type": "markdown",
   "metadata": {},
   "source": [
    "### Maximum model accuracy"
   ]
  },
  {
   "cell_type": "code",
   "execution_count": 21,
   "metadata": {},
   "outputs": [
    {
     "name": "stdout",
     "output_type": "stream",
     "text": [
      "Maximum accuracy of model is:  0.93776137\n"
     ]
    }
   ],
   "source": [
    "print(\"Maximum accuracy of model is: \", max(history.history['accuracy']))"
   ]
  },
  {
   "cell_type": "markdown",
   "metadata": {},
   "source": [
    "### Maximum validation accuracy"
   ]
  },
  {
   "cell_type": "code",
   "execution_count": 22,
   "metadata": {},
   "outputs": [
    {
     "name": "stdout",
     "output_type": "stream",
     "text": [
      "Maximum validation accuracy of model is:  0.9010801\n"
     ]
    }
   ],
   "source": [
    "print(\"Maximum validation accuracy of model is: \", max(history.history['val_accuracy']))"
   ]
  },
  {
   "cell_type": "markdown",
   "metadata": {},
   "source": [
    "### Plot the results"
   ]
  },
  {
   "cell_type": "markdown",
   "metadata": {},
   "source": [
    "### Visualize the validation and training loss"
   ]
  },
  {
   "cell_type": "code",
   "execution_count": 24,
   "metadata": {},
   "outputs": [
    {
     "data": {
      "image/png": "[encoded data removed]",
      "text/plain": [
       "<Figure size 432x288 with 1 Axes>"
      ]
     },
     "metadata": {
      "needs_background": "light"
     },
     "output_type": "display_data"
    }
   ],
   "source": [
    "from matplotlib import pyplot\n",
    "pyplot.plot(history.history['loss'], label='training loss')\n",
    "pyplot.plot(history.history['val_loss'], label='validation loss')\n",
    "pyplot.legend()\n",
    "pyplot.show()"
   ]
  },
  {
   "cell_type": "markdown",
   "metadata": {},
   "source": [
    "### Visualize the validation and trainig accuracy"
   ]
  },
  {
   "cell_type": "code",
   "execution_count": 25,
   "metadata": {},
   "outputs": [
    {
     "data": {
      "image/png": "[encoded data removed]",
      "text/plain": [
       "<Figure size 432x288 with 1 Axes>"
      ]
     },
     "metadata": {
      "needs_background": "light"
     },
     "output_type": "display_data"
    }
   ],
   "source": [
    "from matplotlib import pyplot\n",
    "pyplot.plot(history.history['accuracy'], label='training accuracy')\n",
    "pyplot.plot(history.history['val_accuracy'], label='validation accuracy')\n",
    "pyplot.legend()\n",
    "pyplot.show()"
   ]
  },
  {
   "cell_type": "markdown",
   "metadata": {},
   "source": [
    "### Predictions:\n",
    "Define the function that predicts text for the given audio:"
   ]
  },
  {
   "cell_type": "code",
   "execution_count": 26,
   "metadata": {},
   "outputs": [],
   "source": [
    "def predict(audio):\n",
    "    prob=model.predict(audio.reshape(1,8000,1))\n",
    "    index=np.argmax(prob[0])\n",
    "    return classes[index]"
   ]
  },
  {
   "cell_type": "markdown",
   "metadata": {},
   "source": [
    "### Make the predictions on validation data"
   ]
  },
  {
   "cell_type": "code",
   "execution_count": 27,
   "metadata": {},
   "outputs": [
    {
     "name": "stdout",
     "output_type": "stream",
     "text": [
      "\n",
      "Audio: yes\n",
      "Text: yes\n",
      "\n",
      "Audio: yes\n",
      "Text: yes\n",
      "\n",
      "Audio: unknown\n",
      "Text: unknown\n",
      "\n",
      "Audio: up\n",
      "Text: up\n",
      "\n",
      "Audio: no\n",
      "Text: no\n",
      "\n",
      "Audio: happy\n",
      "Text: happy\n",
      "\n",
      "Audio: no\n",
      "Text: no\n",
      "\n",
      "Audio: down\n",
      "Text: stop\n",
      "\n",
      "Audio: stop\n",
      "Text: stop\n",
      "\n",
      "Audio: no\n",
      "Text: no\n"
     ]
    }
   ],
   "source": [
    "import random\n",
    "for i in range(10):\n",
    "    index=random.randint(0,len(x_val)-1)\n",
    "    samples=x_val[index].ravel()\n",
    "    print(\"\\nAudio:\",classes[np.argmax(y_val[index])])\n",
    "    ipd.Audio(samples, rate=8000)\n",
    "    print(\"Text:\",predict(samples))"
   ]
  },
  {
   "cell_type": "markdown",
   "metadata": {},
   "source": [
    "### Generate a confusion matrix"
   ]
  },
  {
   "cell_type": "code",
   "execution_count": 28,
   "metadata": {},
   "outputs": [],
   "source": [
    "y_pred = model.predict(x_val)"
   ]
  },
  {
   "cell_type": "code",
   "execution_count": 29,
   "metadata": {},
   "outputs": [],
   "source": [
    "y_pred_again = []\n",
    "for i in range(len(y_pred)):\n",
    "    r = np.zeros(12)\n",
    "    r[np.argmax(y_pred[i])] = 1\n",
    "    y_pred_again.append(r)\n"
   ]
  },
  {
   "cell_type": "code",
   "execution_count": 30,
   "metadata": {},
   "outputs": [],
   "source": [
    "yyyyy = np.array(y_pred_again)"
   ]
  },
  {
   "cell_type": "code",
   "execution_count": 31,
   "metadata": {},
   "outputs": [
    {
     "data": {
      "text/plain": [
       "(7592, 12)"
      ]
     },
     "execution_count": 31,
     "metadata": {},
     "output_type": "execute_result"
    }
   ],
   "source": [
    "y_pred.shape"
   ]
  },
  {
   "cell_type": "code",
   "execution_count": 32,
   "metadata": {},
   "outputs": [],
   "source": [
    "from sklearn.metrics import confusion_matrix\n",
    "cm = confusion_matrix(y_val.argmax(axis=1), yyyyy.argmax(axis=1))"
   ]
  },
  {
   "cell_type": "code",
   "execution_count": 33,
   "metadata": {},
   "outputs": [
    {
     "data": {
      "image/png": "[encoded data removed]",
      "text/plain": [
       "<Figure size 1080x1080 with 1 Axes>"
      ]
     },
     "metadata": {
      "needs_background": "light"
     },
     "output_type": "display_data"
    }
   ],
   "source": [
    "import seaborn as sns\n",
    "plt.figure(figsize=(15, 15))\n",
    "sns.heatmap(cm.T, square=True, annot=True, fmt='d', cbar=False,\n",
    "            xticklabels=classes,\n",
    "            yticklabels=classes)\n",
    "\n",
    "plt.xlabel('True Label', fontsize = 20)\n",
    "plt.ylabel('Predicted Label', fontsize = 20);"
   ]
  },
  {
   "cell_type": "markdown",
   "metadata": {},
   "source": [
    "### Classification Report"
   ]
  },
  {
   "cell_type": "code",
   "execution_count": 35,
   "metadata": {},
   "outputs": [
    {
     "name": "stdout",
     "output_type": "stream",
     "text": [
      "(7592,) (7592,)\n",
      "              precision    recall  f1-score   support\n",
      "\n",
      "    backward       0.94      0.81      0.87       312\n",
      "        down       0.96      0.84      0.90       716\n",
      "     forward       0.90      0.87      0.89       317\n",
      "       happy       0.93      0.90      0.91       353\n",
      "          no       0.79      0.89      0.84       709\n",
      "         off       0.83      0.86      0.84       685\n",
      "          on       0.83      0.91      0.87       694\n",
      "     silence       0.82      1.00      0.90       224\n",
      "        stop       0.90      0.91      0.90       712\n",
      "     unknown       0.93      0.91      0.92      1477\n",
      "          up       0.83      0.84      0.84       654\n",
      "         yes       0.97      0.91      0.94       739\n",
      "\n",
      "    accuracy                           0.89      7592\n",
      "   macro avg       0.89      0.89      0.88      7592\n",
      "weighted avg       0.89      0.89      0.89      7592\n",
      "\n"
     ]
    }
   ],
   "source": [
    "from sklearn.metrics import classification_report\n",
    "\n",
    "y_true = y_val.argmax(axis=1)\n",
    "y_pred = model.predict(x_val)\n",
    "\n",
    "y_pred_again = []\n",
    "for i in range(len(y_pred)):\n",
    "    r = np.zeros(12)\n",
    "    r[np.argmax(y_pred[i])] = 1\n",
    "    y_pred_again.append(r)\n",
    "    \n",
    "yyyyy = np.array(y_pred_again)\n",
    "y_pred = np.argmax(yyyyy, axis=1)\n",
    "target_names = classes\n",
    "\n",
    "print(y_true.shape, y_pred.shape)\n",
    "print(classification_report(y_true, y_pred, target_names=target_names))\n"
   ]
  },
  {
   "cell_type": "code",
   "execution_count": null,
   "metadata": {},
   "outputs": [],
   "source": []
  }
 ],
 "metadata": {
  "kernelspec": {
   "display_name": "Python 3",
   "language": "python",
   "name": "python3"
  },
  "language_info": {
   "codemirror_mode": {
    "name": "ipython",
    "version": 3
   },
   "file_extension": ".py",
   "mimetype": "text/x-python",
   "name": "python",
   "nbconvert_exporter": "python",
   "pygments_lexer": "ipython3",
   "version": "3.7.3"
  }
 },
 "nbformat": 4,
 "nbformat_minor": 2
}
